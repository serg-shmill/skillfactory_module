{
 "cells": [
  {
   "cell_type": "code",
   "execution_count": 74,
   "metadata": {},
   "outputs": [],
   "source": [
    "import random\n",
    "import numpy as np"
   ]
  },
  {
   "cell_type": "code",
   "execution_count": 81,
   "metadata": {},
   "outputs": [],
   "source": [
    "def game_core_v1(number):\n",
    "    '''Функция принимает загаданное число и возвращает число попыток'''\n",
    "    \n",
    "    predict = 0 # Прогнозное значение \n",
    "    guess_number = 50 # Середина диапазона \n",
    "    max_namber = 100 # максимальное число диапазона\n",
    "    count = 0\n",
    "    \n",
    "    while predict != number: # цикл угадывания числа\n",
    "                \n",
    "        if guess_number > number: \n",
    "            predict = guess_number-((max_namber - guess_number) // 2)\n",
    "            max_namber = guess_number\n",
    "            guess_number = predict\n",
    "        else:\n",
    "            predict = guess_number + ((max_namber - guess_number) // 2)\n",
    "            guess_number = predict\n",
    "        count += 1\n",
    "        \n",
    "        if count == 10:\n",
    "            for number_check in range(max_namber-5, max_namber+1):\n",
    "                if number == number_check:\n",
    "                    predict = number_check\n",
    "                    count += 1\n",
    "                    break\n",
    "                else:\n",
    "                    count += 1\n",
    "    else:\n",
    "        return count # Выход из цикла \n",
    "        "
   ]
  },
  {
   "cell_type": "code",
   "execution_count": 82,
   "metadata": {},
   "outputs": [],
   "source": [
    "def score_game(game_core):\n",
    "    '''Запускаем игру 1000 раз, чтобы узнать, как быстро игра угадывает число'''\n",
    "    count_ls = []\n",
    "    np.random.seed(1)  # фиксируем RANDOM SEED, чтобы ваш эксперимент был воспроизводим!\n",
    "    random_array = np.random.randint(1,101, size=(1000))\n",
    "    for number in random_array:\n",
    "        count_ls.append(game_core(number))\n",
    "    score = int(np.mean(count_ls))\n",
    "    print(f\"Ваш алгоритм угадывает число в среднем за {score} попыток\")\n",
    "    return(score)"
   ]
  },
  {
   "cell_type": "code",
   "execution_count": 83,
   "metadata": {},
   "outputs": [
    {
     "name": "stdout",
     "output_type": "stream",
     "text": [
      "Ваш алгоритм угадывает число в среднем за 6 попыток\n"
     ]
    },
    {
     "data": {
      "text/plain": [
       "6"
      ]
     },
     "execution_count": 83,
     "metadata": {},
     "output_type": "execute_result"
    }
   ],
   "source": [
    "score_game(game_core_v1)"
   ]
  }
 ],
 "metadata": {
  "kernelspec": {
   "display_name": "Python 3",
   "language": "python",
   "name": "python3"
  },
  "language_info": {
   "codemirror_mode": {
    "name": "ipython",
    "version": 3
   },
   "file_extension": ".py",
   "mimetype": "text/x-python",
   "name": "python",
   "nbconvert_exporter": "python",
   "pygments_lexer": "ipython3",
   "version": "3.7.4"
  }
 },
 "nbformat": 4,
 "nbformat_minor": 2
}
